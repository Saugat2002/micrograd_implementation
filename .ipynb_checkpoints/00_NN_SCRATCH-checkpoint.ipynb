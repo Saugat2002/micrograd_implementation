{
 "cells": [
  {
   "cell_type": "code",
   "execution_count": 4,
   "metadata": {},
   "outputs": [],
   "source": [
    "import math\n",
    "import numpy as np\n",
    "import matplotlib.pyplot as plt\n",
    "%matplotlib inline"
   ]
  },
  {
   "cell_type": "code",
   "execution_count": 1,
   "metadata": {},
   "outputs": [],
   "source": [
    "def f(x):\n",
    "    return x**2 + 2*x - 1"
   ]
  },
  {
   "cell_type": "code",
   "execution_count": 2,
   "metadata": {},
   "outputs": [
    {
     "data": {
      "text/plain": [
       "23.0"
      ]
     },
     "execution_count": 2,
     "metadata": {},
     "output_type": "execute_result"
    }
   ],
   "source": [
    "f(4.0)"
   ]
  },
  {
   "cell_type": "code",
   "execution_count": 9,
   "metadata": {},
   "outputs": [
    {
     "data": {
      "text/plain": [
       "(array([-10. ,  -9.5,  -9. ,  -8.5,  -8. ,  -7.5,  -7. ,  -6.5,  -6. ,\n",
       "         -5.5,  -5. ,  -4.5,  -4. ,  -3.5,  -3. ,  -2.5,  -2. ,  -1.5,\n",
       "         -1. ,  -0.5,   0. ,   0.5,   1. ,   1.5,   2. ,   2.5,   3. ,\n",
       "          3.5,   4. ,   4.5,   5. ,   5.5,   6. ,   6.5,   7. ,   7.5,\n",
       "          8. ,   8.5,   9. ,   9.5]),\n",
       " array([ 79.  ,  70.25,  62.  ,  54.25,  47.  ,  40.25,  34.  ,  28.25,\n",
       "         23.  ,  18.25,  14.  ,  10.25,   7.  ,   4.25,   2.  ,   0.25,\n",
       "         -1.  ,  -1.75,  -2.  ,  -1.75,  -1.  ,   0.25,   2.  ,   4.25,\n",
       "          7.  ,  10.25,  14.  ,  18.25,  23.  ,  28.25,  34.  ,  40.25,\n",
       "         47.  ,  54.25,  62.  ,  70.25,  79.  ,  88.25,  98.  , 108.25]))"
      ]
     },
     "execution_count": 9,
     "metadata": {},
     "output_type": "execute_result"
    }
   ],
   "source": [
    "xs = np.arange(-10, 10, 0.5)\n",
    "ys = f(xs)\n",
    "xs , ys"
   ]
  },
  {
   "cell_type": "code",
   "execution_count": 10,
   "metadata": {},
   "outputs": [
    {
     "data": {
      "text/plain": [
       "[<matplotlib.lines.Line2D at 0x7adb05befdd0>]"
      ]
     },
     "execution_count": 10,
     "metadata": {},
     "output_type": "execute_result"
    },
    {
     "data": {
      "image/png": "[encoded data removed]",
      "text/plain": [
       "<Figure size 640x480 with 1 Axes>"
      ]
     },
     "metadata": {},
     "output_type": "display_data"
    }
   ],
   "source": [
    "plt.plot(xs,ys)"
   ]
  },
  {
   "cell_type": "code",
   "execution_count": 13,
   "metadata": {},
   "outputs": [
    {
     "data": {
      "text/plain": [
       "1.000088900582341e-06"
      ]
     },
     "execution_count": 13,
     "metadata": {},
     "output_type": "execute_result"
    }
   ],
   "source": [
    "h = 0.000001\n",
    "x = -1\n",
    "slope = (f(x+h) - f(x))/h\n",
    "slope"
   ]
  },
  {
   "cell_type": "code",
   "execution_count": 15,
   "metadata": {},
   "outputs": [
    {
     "data": {
      "text/plain": [
       "-2.0"
      ]
     },
     "execution_count": 15,
     "metadata": {},
     "output_type": "execute_result"
    }
   ],
   "source": [
    "a = 2.0\n",
    "b = -3.0\n",
    "c = 4.0\n",
    "d = a*b + c\n",
    "d"
   ]
  },
  {
   "cell_type": "code",
   "execution_count": 23,
   "metadata": {},
   "outputs": [
    {
     "name": "stdout",
     "output_type": "stream",
     "text": [
      "d1 -2.0\n",
      "d2 -2.0000300000000006\n",
      "Slope -3.000000000064062\n"
     ]
    }
   ],
   "source": [
    "h = 0.00001\n",
    "a = 2.0\n",
    "b = -3.0\n",
    "c = 4.0\n",
    "d1 = a*b + c\n",
    "a += h\n",
    "d2 = a*b + c\n",
    "print('d1', d1)\n",
    "print('d2', d2)\n",
    "print('Slope', (d2 - d1)/h)"
   ]
  },
  {
   "cell_type": "code",
   "execution_count": 266,
   "metadata": {},
   "outputs": [
    {
     "data": {
      "text/plain": [
       "Value(data = 4.0)"
      ]
     },
     "execution_count": 266,
     "metadata": {},
     "output_type": "execute_result"
    }
   ],
   "source": [
    "class Value:\n",
    "\n",
    "    def __init__(self, data, _children= (), _op ='', label=''):\n",
    "        self.data = data\n",
    "        self._prev = set(_children)\n",
    "        self._op = _op\n",
    "        self.label = label\n",
    "        self.grad = 0.0\n",
    "\n",
    "    def __repr__(self):\n",
    "        return f\"Value(data = {self.data})\"\n",
    "    \n",
    "    def __add__(self,other):\n",
    "        return Value(self.data + other.data , (self, other), '+')\n",
    "    \n",
    "    def __mul__(self,other):\n",
    "        return Value(self.data * other.data, (self,other), '*')\n",
    "    \n",
    "    \n",
    "a = Value(2.0, label = 'a')\n",
    "b = Value(-3.0, label = 'b')\n",
    "c = Value(4.0, label = 'c')\n",
    "e = a*b; e.label = 'e'\n",
    "d = e + c; d.label = 'd'\n",
    "f = Value(-2.0, label = 'f')\n",
    "L = d*f; L.label = 'L'\n",
    "L"
   ]
  },
  {
   "cell_type": "code",
   "execution_count": 267,
   "metadata": {},
   "outputs": [
    {
     "data": {
      "text/plain": [
       "({Value(data = -6.0), Value(data = 4.0)}, '+')"
      ]
     },
     "execution_count": 267,
     "metadata": {},
     "output_type": "execute_result"
    }
   ],
   "source": [
    "d._prev, d._op"
   ]
  },
  {
   "cell_type": "code",
   "execution_count": 268,
   "metadata": {},
   "outputs": [],
   "source": [
    "L.grad = 1.0\n",
    "d.grad = -2.0\n",
    "f.grad = 3.0\n",
    "e.grad = -2.0\n",
    "c.grad = -2.0\n",
    "b.grad = -4.0\n",
    "a.grad = 6.0"
   ]
  },
  {
   "cell_type": "code",
   "execution_count": 270,
   "metadata": {},
   "outputs": [],
   "source": [
    "# def lol():\n",
    "#     h = 0.0001\n",
    "#     a = Value(2.0, label = 'a')\n",
    "#     b = Value(-3.0, label = 'b')\n",
    "#     c = Value(4.0, label = 'c')\n",
    "#     e = a*b; e.label = 'e'\n",
    "#     d = e + c; d.label = 'd'\n",
    "#     f = Value(-2.0, label = 'f')\n",
    "#     L = d*f; L.label = 'L'\n",
    "#     # L1 = L.data\n",
    "#     # a = Value(2.0 , label = 'a')\n",
    "#     # b = Value(-3.0, label = 'b')\n",
    "#     # c = Value(4.0, label = 'c')\n",
    "#     # e = a+b; e.label = 'e'\n",
    "#     # d = e + c ; d.label = 'd'\n",
    "#     # f = Value(-2.0 + h, label = 'f')\n",
    "#     # L = d*f; L.label = 'L'\n",
    "#     # L2 = L.data\n",
    "#     # print((L2 - L1)/h)\n",
    "#     print(a,b,c,d,e,f,L)\n",
    "\n",
    "# lol()"
   ]
  },
  {
   "cell_type": "code",
   "execution_count": 308,
   "metadata": {},
   "outputs": [
    {
     "data": {
      "image/svg+xml": [
       "<?xml version=\"1.0\" encoding=\"UTF-8\" standalone=\"no\"?>\n",
       "<!DOCTYPE svg PUBLIC \"-//W3C//DTD SVG 1.1//EN\"\n",
       " \"http://www.w3.org/Graphics/SVG/1.1/DTD/svg11.dtd\">\n",
       "<!-- Generated by graphviz version 2.43.0 (0)\n",
       " -->\n",
       "<!-- Title: %3 Pages: 1 -->\n",
       "<svg width=\"1157pt\" height=\"156pt\"\n",
       " viewBox=\"0.00 0.00 1157.00 156.00\" xmlns=\"http://www.w3.org/2000/svg\" xmlns:xlink=\"http://www.w3.org/1999/xlink\">\n",
       "<g id=\"graph0\" class=\"graph\" transform=\"scale(1 1) rotate(0) translate(4 152)\">\n",
       "<title>%3</title>\n",
       "<polygon fill=\"white\" stroke=\"transparent\" points=\"-4,4 -4,-152 1153,-152 1153,4 -4,4\"/>\n",
       "<!-- 135081308540944 -->\n",
       "<g id=\"node1\" class=\"node\">\n",
       "<title>135081308540944</title>\n",
       "<polygon fill=\"none\" stroke=\"black\" points=\"0,-111.5 0,-147.5 194,-147.5 194,-111.5 0,-111.5\"/>\n",
       "<text text-anchor=\"middle\" x=\"11.5\" y=\"-125.8\" font-family=\"Times,serif\" font-size=\"14.00\">b</text>\n",
       "<polyline fill=\"none\" stroke=\"black\" points=\"23,-111.5 23,-147.5 \"/>\n",
       "<text text-anchor=\"middle\" x=\"65.5\" y=\"-125.8\" font-family=\"Times,serif\" font-size=\"14.00\">data &#45;4.4400</text>\n",
       "<polyline fill=\"none\" stroke=\"black\" points=\"108,-111.5 108,-147.5 \"/>\n",
       "<text text-anchor=\"middle\" x=\"151\" y=\"-125.8\" font-family=\"Times,serif\" font-size=\"14.00\">grad &#45;4.0000</text>\n",
       "</g>\n",
       "<!-- 135081308818368* -->\n",
       "<g id=\"node10\" class=\"node\">\n",
       "<title>135081308818368*</title>\n",
       "<ellipse fill=\"none\" stroke=\"black\" cx=\"257\" cy=\"-101.5\" rx=\"27\" ry=\"18\"/>\n",
       "<text text-anchor=\"middle\" x=\"257\" y=\"-97.8\" font-family=\"Times,serif\" font-size=\"14.00\">*</text>\n",
       "</g>\n",
       "<!-- 135081308540944&#45;&gt;135081308818368* -->\n",
       "<g id=\"edge5\" class=\"edge\">\n",
       "<title>135081308540944&#45;&gt;135081308818368*</title>\n",
       "<path fill=\"none\" stroke=\"black\" d=\"M194.01,-112.49C203.35,-110.83 212.37,-109.23 220.49,-107.79\"/>\n",
       "<polygon fill=\"black\" stroke=\"black\" points=\"221.37,-111.19 230.6,-106 220.15,-104.3 221.37,-111.19\"/>\n",
       "</g>\n",
       "<!-- 135081308720256 -->\n",
       "<g id=\"node2\" class=\"node\">\n",
       "<title>135081308720256</title>\n",
       "<polygon fill=\"none\" stroke=\"black\" points=\"643,-0.5 643,-36.5 831,-36.5 831,-0.5 643,-0.5\"/>\n",
       "<text text-anchor=\"middle\" x=\"653.5\" y=\"-14.8\" font-family=\"Times,serif\" font-size=\"14.00\">f</text>\n",
       "<polyline fill=\"none\" stroke=\"black\" points=\"664,-0.5 664,-36.5 \"/>\n",
       "<text text-anchor=\"middle\" x=\"706.5\" y=\"-14.8\" font-family=\"Times,serif\" font-size=\"14.00\">data &#45;0.9200</text>\n",
       "<polyline fill=\"none\" stroke=\"black\" points=\"749,-0.5 749,-36.5 \"/>\n",
       "<text text-anchor=\"middle\" x=\"790\" y=\"-14.8\" font-family=\"Times,serif\" font-size=\"14.00\">grad 3.0000</text>\n",
       "</g>\n",
       "<!-- 135081308823312* -->\n",
       "<g id=\"node5\" class=\"node\">\n",
       "<title>135081308823312*</title>\n",
       "<ellipse fill=\"none\" stroke=\"black\" cx=\"897\" cy=\"-45.5\" rx=\"27\" ry=\"18\"/>\n",
       "<text text-anchor=\"middle\" x=\"897\" y=\"-41.8\" font-family=\"Times,serif\" font-size=\"14.00\">*</text>\n",
       "</g>\n",
       "<!-- 135081308720256&#45;&gt;135081308823312* -->\n",
       "<g id=\"edge8\" class=\"edge\">\n",
       "<title>135081308720256&#45;&gt;135081308823312*</title>\n",
       "<path fill=\"none\" stroke=\"black\" d=\"M831.28,-34.44C841.65,-36.21 851.68,-37.93 860.63,-39.46\"/>\n",
       "<polygon fill=\"black\" stroke=\"black\" points=\"860.14,-42.92 870.59,-41.16 861.32,-36.02 860.14,-42.92\"/>\n",
       "</g>\n",
       "<!-- 135081308721408 -->\n",
       "<g id=\"node3\" class=\"node\">\n",
       "<title>135081308721408</title>\n",
       "<polygon fill=\"none\" stroke=\"black\" points=\"4.5,-56.5 4.5,-92.5 189.5,-92.5 189.5,-56.5 4.5,-56.5\"/>\n",
       "<text text-anchor=\"middle\" x=\"16\" y=\"-70.8\" font-family=\"Times,serif\" font-size=\"14.00\">a</text>\n",
       "<polyline fill=\"none\" stroke=\"black\" points=\"27.5,-56.5 27.5,-92.5 \"/>\n",
       "<text text-anchor=\"middle\" x=\"67.5\" y=\"-70.8\" font-family=\"Times,serif\" font-size=\"14.00\">data 4.1600</text>\n",
       "<polyline fill=\"none\" stroke=\"black\" points=\"107.5,-56.5 107.5,-92.5 \"/>\n",
       "<text text-anchor=\"middle\" x=\"148.5\" y=\"-70.8\" font-family=\"Times,serif\" font-size=\"14.00\">grad 6.0000</text>\n",
       "</g>\n",
       "<!-- 135081308721408&#45;&gt;135081308818368* -->\n",
       "<g id=\"edge7\" class=\"edge\">\n",
       "<title>135081308721408&#45;&gt;135081308818368*</title>\n",
       "<path fill=\"none\" stroke=\"black\" d=\"M189.91,-90.21C200.76,-92.06 211.28,-93.86 220.61,-95.45\"/>\n",
       "<polygon fill=\"black\" stroke=\"black\" points=\"220.16,-98.93 230.6,-97.16 221.34,-92.03 220.16,-98.93\"/>\n",
       "</g>\n",
       "<!-- 135081308823312 -->\n",
       "<g id=\"node4\" class=\"node\">\n",
       "<title>135081308823312</title>\n",
       "<polygon fill=\"none\" stroke=\"black\" points=\"960,-27.5 960,-63.5 1149,-63.5 1149,-27.5 960,-27.5\"/>\n",
       "<text text-anchor=\"middle\" x=\"970\" y=\"-41.8\" font-family=\"Times,serif\" font-size=\"14.00\"> </text>\n",
       "<polyline fill=\"none\" stroke=\"black\" points=\"980,-27.5 980,-63.5 \"/>\n",
       "<text text-anchor=\"middle\" x=\"1023.5\" y=\"-41.8\" font-family=\"Times,serif\" font-size=\"14.00\">data 13.9752</text>\n",
       "<polyline fill=\"none\" stroke=\"black\" points=\"1067,-27.5 1067,-63.5 \"/>\n",
       "<text text-anchor=\"middle\" x=\"1108\" y=\"-41.8\" font-family=\"Times,serif\" font-size=\"14.00\">grad 0.0000</text>\n",
       "</g>\n",
       "<!-- 135081308823312*&#45;&gt;135081308823312 -->\n",
       "<g id=\"edge1\" class=\"edge\">\n",
       "<title>135081308823312*&#45;&gt;135081308823312</title>\n",
       "<path fill=\"none\" stroke=\"black\" d=\"M924.03,-45.5C931.66,-45.5 940.52,-45.5 949.94,-45.5\"/>\n",
       "<polygon fill=\"black\" stroke=\"black\" points=\"949.94,-49 959.94,-45.5 949.94,-42 949.94,-49\"/>\n",
       "</g>\n",
       "<!-- 135081106061600 -->\n",
       "<g id=\"node6\" class=\"node\">\n",
       "<title>135081106061600</title>\n",
       "<polygon fill=\"none\" stroke=\"black\" points=\"322.5,-28.5 322.5,-64.5 511.5,-64.5 511.5,-28.5 322.5,-28.5\"/>\n",
       "<text text-anchor=\"middle\" x=\"334\" y=\"-42.8\" font-family=\"Times,serif\" font-size=\"14.00\">c</text>\n",
       "<polyline fill=\"none\" stroke=\"black\" points=\"345.5,-28.5 345.5,-64.5 \"/>\n",
       "<text text-anchor=\"middle\" x=\"385.5\" y=\"-42.8\" font-family=\"Times,serif\" font-size=\"14.00\">data 3.2800</text>\n",
       "<polyline fill=\"none\" stroke=\"black\" points=\"425.5,-28.5 425.5,-64.5 \"/>\n",
       "<text text-anchor=\"middle\" x=\"468.5\" y=\"-42.8\" font-family=\"Times,serif\" font-size=\"14.00\">grad &#45;2.0000</text>\n",
       "</g>\n",
       "<!-- 135081308819904+ -->\n",
       "<g id=\"node8\" class=\"node\">\n",
       "<title>135081308819904+</title>\n",
       "<ellipse fill=\"none\" stroke=\"black\" cx=\"577\" cy=\"-73.5\" rx=\"27\" ry=\"18\"/>\n",
       "<text text-anchor=\"middle\" x=\"577\" y=\"-69.8\" font-family=\"Times,serif\" font-size=\"14.00\">+</text>\n",
       "</g>\n",
       "<!-- 135081106061600&#45;&gt;135081308819904+ -->\n",
       "<g id=\"edge4\" class=\"edge\">\n",
       "<title>135081106061600&#45;&gt;135081308819904+</title>\n",
       "<path fill=\"none\" stroke=\"black\" d=\"M511.74,-62.52C521.85,-64.25 531.62,-65.92 540.37,-67.41\"/>\n",
       "<polygon fill=\"black\" stroke=\"black\" points=\"540.04,-70.9 550.48,-69.14 541.22,-64 540.04,-70.9\"/>\n",
       "</g>\n",
       "<!-- 135081308819904 -->\n",
       "<g id=\"node7\" class=\"node\">\n",
       "<title>135081308819904</title>\n",
       "<polygon fill=\"none\" stroke=\"black\" points=\"640,-55.5 640,-91.5 834,-91.5 834,-55.5 640,-55.5\"/>\n",
       "<text text-anchor=\"middle\" x=\"650\" y=\"-69.8\" font-family=\"Times,serif\" font-size=\"14.00\"> </text>\n",
       "<polyline fill=\"none\" stroke=\"black\" points=\"660,-55.5 660,-91.5 \"/>\n",
       "<text text-anchor=\"middle\" x=\"706\" y=\"-69.8\" font-family=\"Times,serif\" font-size=\"14.00\">data &#45;15.1904</text>\n",
       "<polyline fill=\"none\" stroke=\"black\" points=\"752,-55.5 752,-91.5 \"/>\n",
       "<text text-anchor=\"middle\" x=\"793\" y=\"-69.8\" font-family=\"Times,serif\" font-size=\"14.00\">grad 0.0000</text>\n",
       "</g>\n",
       "<!-- 135081308819904&#45;&gt;135081308823312* -->\n",
       "<g id=\"edge9\" class=\"edge\">\n",
       "<title>135081308819904&#45;&gt;135081308823312*</title>\n",
       "<path fill=\"none\" stroke=\"black\" d=\"M834.01,-56.49C843.35,-54.83 852.37,-53.23 860.49,-51.79\"/>\n",
       "<polygon fill=\"black\" stroke=\"black\" points=\"861.37,-55.19 870.6,-50 860.15,-48.3 861.37,-55.19\"/>\n",
       "</g>\n",
       "<!-- 135081308819904+&#45;&gt;135081308819904 -->\n",
       "<g id=\"edge2\" class=\"edge\">\n",
       "<title>135081308819904+&#45;&gt;135081308819904</title>\n",
       "<path fill=\"none\" stroke=\"black\" d=\"M604.09,-73.5C611.62,-73.5 620.34,-73.5 629.63,-73.5\"/>\n",
       "<polygon fill=\"black\" stroke=\"black\" points=\"629.92,-77 639.92,-73.5 629.92,-70 629.92,-77\"/>\n",
       "</g>\n",
       "<!-- 135081308818368 -->\n",
       "<g id=\"node9\" class=\"node\">\n",
       "<title>135081308818368</title>\n",
       "<polygon fill=\"none\" stroke=\"black\" points=\"320,-83.5 320,-119.5 514,-119.5 514,-83.5 320,-83.5\"/>\n",
       "<text text-anchor=\"middle\" x=\"330\" y=\"-97.8\" font-family=\"Times,serif\" font-size=\"14.00\"> </text>\n",
       "<polyline fill=\"none\" stroke=\"black\" points=\"340,-83.5 340,-119.5 \"/>\n",
       "<text text-anchor=\"middle\" x=\"386\" y=\"-97.8\" font-family=\"Times,serif\" font-size=\"14.00\">data &#45;18.4704</text>\n",
       "<polyline fill=\"none\" stroke=\"black\" points=\"432,-83.5 432,-119.5 \"/>\n",
       "<text text-anchor=\"middle\" x=\"473\" y=\"-97.8\" font-family=\"Times,serif\" font-size=\"14.00\">grad 0.0000</text>\n",
       "</g>\n",
       "<!-- 135081308818368&#45;&gt;135081308819904+ -->\n",
       "<g id=\"edge6\" class=\"edge\">\n",
       "<title>135081308818368&#45;&gt;135081308819904+</title>\n",
       "<path fill=\"none\" stroke=\"black\" d=\"M514.01,-84.49C523.35,-82.83 532.37,-81.23 540.49,-79.79\"/>\n",
       "<polygon fill=\"black\" stroke=\"black\" points=\"541.37,-83.19 550.6,-78 540.15,-76.3 541.37,-83.19\"/>\n",
       "</g>\n",
       "<!-- 135081308818368*&#45;&gt;135081308818368 -->\n",
       "<g id=\"edge3\" class=\"edge\">\n",
       "<title>135081308818368*&#45;&gt;135081308818368</title>\n",
       "<path fill=\"none\" stroke=\"black\" d=\"M284.09,-101.5C291.62,-101.5 300.34,-101.5 309.63,-101.5\"/>\n",
       "<polygon fill=\"black\" stroke=\"black\" points=\"309.92,-105 319.92,-101.5 309.92,-98 309.92,-105\"/>\n",
       "</g>\n",
       "</g>\n",
       "</svg>\n"
      ],
      "text/plain": [
       "<graphviz.graphs.Digraph at 0x7adb116c0770>"
      ]
     },
     "execution_count": 308,
     "metadata": {},
     "output_type": "execute_result"
    }
   ],
   "source": [
    "from graphviz import Digraph\n",
    "\n",
    "def trace(root):\n",
    "    nodes, edges = set(), set()\n",
    "    def build(v):\n",
    "        if v not in nodes:\n",
    "            nodes.add(v)\n",
    "            for child in v._prev:\n",
    "                edges.add((child, v))\n",
    "                build(child)\n",
    "    build(root)\n",
    "    return nodes, edges\n",
    "\n",
    "def draw_dot(root):\n",
    "    dot = Digraph(format='png', graph_attr={'rankdir':'LR'}) # LR = left to right\n",
    "    nodes, edges = trace(root)\n",
    "    for n in nodes:\n",
    "        uid = str(id(n))\n",
    "        dot.node(name = uid, label = \"{%s | data %.4f | grad %.4f }\" % (n.label, n.data,n.grad) , shape = 'record')\n",
    "        if n._op:\n",
    "            dot.node(name = uid+ n._op , label= n._op)\n",
    "            dot.edge(uid + n._op, uid)\n",
    "    for n1, n2 in edges:\n",
    "        dot.edge(str(id(n1)), str(id(n2)) + n2._op)\n",
    "    return dot\n",
    "\n",
    "draw_dot(L)"
   ]
  },
  {
   "cell_type": "code",
   "execution_count": 307,
   "metadata": {},
   "outputs": [
    {
     "data": {
      "text/plain": [
       "13.975167999999995"
      ]
     },
     "execution_count": 307,
     "metadata": {},
     "output_type": "execute_result"
    }
   ],
   "source": [
    "lr = 0.01\n",
    "a.data += lr * a.grad\n",
    "b.data += lr * b.grad\n",
    "c.data += lr * c.grad\n",
    "f.data += lr * f.grad\n",
    "\n",
    "e = a*b\n",
    "d = e + c\n",
    "L = d*f\n",
    "L.data"
   ]
  },
  {
   "cell_type": "code",
   "execution_count": null,
   "metadata": {},
   "outputs": [],
   "source": []
  },
  {
   "cell_type": "code",
   "execution_count": null,
   "metadata": {},
   "outputs": [],
   "source": []
  }
 ],
 "metadata": {
  "kernelspec": {
   "display_name": "Python 3 (ipykernel)",
   "language": "python",
   "name": "python3"
  },
  "language_info": {
   "codemirror_mode": {
    "name": "ipython",
    "version": 3
   },
   "file_extension": ".py",
   "mimetype": "text/x-python",
   "name": "python",
   "nbconvert_exporter": "python",
   "pygments_lexer": "ipython3",
   "version": "3.11.7"
  }
 },
 "nbformat": 4,
 "nbformat_minor": 2
}
